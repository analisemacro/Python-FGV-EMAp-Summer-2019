{
 "cells": [
  {
   "cell_type": "markdown",
   "metadata": {},
   "source": [
    "FGV - Escola de Matemática Aplicada\n",
    "==\n",
    "Introdução à Programação com a Linguagem Python\n",
    "--"
   ]
  },
  {
   "cell_type": "markdown",
   "metadata": {},
   "source": [
    "### Bibliografia:\n",
    "- [Python Cookbook - Brian Jones, David Beazley](http://shop.oreilly.com/product/0636920027072.do)\n",
    "\n",
    "\n",
    "- [Data Science and Analytics with Python - Salazar](https://www.amazon.com/Science-Analytics-Chapman-Knowledge-Discovery/dp/1498742092) \n",
    "\n",
    "\n",
    "- [Python for Data Analysis - McKinney](http://shop.oreilly.com/product/0636920050896.do)\n",
    "\n",
    "   "
   ]
  },
  {
   "cell_type": "markdown",
   "metadata": {},
   "source": [
    "### Tutoriais\n",
    "- [Python.org Tutorial]( https://docs.python.org/dev/tutorial/index.html)\n",
    "\n",
    "\n",
    "- [Numpy Tutorial](https://docs.scipy.org/doc/numpy/user/quickstart.html)\n",
    "\n",
    "\n",
    "- [Matplotlib Tutorial](https://matplotlib.org/)\n",
    "\n",
    "\n",
    "- [Tutorialspoint](https://www.tutorialspoint.com/python/index.htm)"
   ]
  },
  {
   "cell_type": "markdown",
   "metadata": {},
   "source": [
    "## Qual Python usar?\n",
    "- - -"
   ]
  },
  {
   "cell_type": "markdown",
   "metadata": {},
   "source": [
    "## Python Distributions\n",
    "\n",
    "- [Anaconda](https://www.anaconda.com/)\n",
    "\n",
    "\n",
    "- [Outras distribuições](https://wiki.python.org/moin/PythonDistributions)"
   ]
  },
  {
   "cell_type": "code",
   "execution_count": null,
   "metadata": {},
   "outputs": [],
   "source": []
  }
 ],
 "metadata": {
  "kernelspec": {
   "display_name": "Python 3",
   "language": "python",
   "name": "python3"
  },
  "language_info": {
   "codemirror_mode": {
    "name": "ipython",
    "version": 3
   },
   "file_extension": ".py",
   "mimetype": "text/x-python",
   "name": "python",
   "nbconvert_exporter": "python",
   "pygments_lexer": "ipython3",
   "version": "3.7.0"
  }
 },
 "nbformat": 4,
 "nbformat_minor": 2
}
